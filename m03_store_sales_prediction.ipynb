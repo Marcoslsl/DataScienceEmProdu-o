{
 "cells": [
  {
   "cell_type": "markdown",
   "id": "5e37f0b5",
   "metadata": {},
   "source": [
    "# Business Problem\n",
    "\n",
    "Rossmann operates over 3,000 drug stores in 7 European countries. Currently, Rossmann store managers are tasked with predicting their daily sales for up to six weeks in advance. Store sales are influenced by many factors, including promotions, competition, school and state holidays, seasonality, and locality. With thousands of individual managers predicting sales based on their unique circumstances, the accuracy of results can be quite varied."
   ]
  },
  {
   "cell_type": "markdown",
   "id": "d5c2bc83",
   "metadata": {},
   "source": [
    "# 0.0. IMPORTS"
   ]
  },
  {
   "cell_type": "code",
   "execution_count": 20,
   "id": "7fee011a",
   "metadata": {
    "ExecuteTime": {
     "end_time": "2021-08-18T19:40:33.914564Z",
     "start_time": "2021-08-18T19:40:33.897609Z"
    }
   },
   "outputs": [],
   "source": [
    "import numpy   as np\n",
    "import pandas  as pd\n",
    "import seaborn as sns\n",
    "import matplotlib.pyplot as plt\n",
    "import inflection\n",
    "import math\n",
    "import datetime\n",
    "\n",
    "from IPython.display import Image\n",
    "\n",
    "\n",
    "color1 = sns.color_palette('BrBG')[0]\n",
    "color2 = sns.color_palette('BrBG')[1]\n",
    "color3 = sns.color_palette('BrBG')[4]\n",
    "color4 = sns.color_palette('BrBG')[5]\n",
    "color  = [ color1, color2, color3, color4 ]\n",
    "\n",
    "sns.set_style( 'darkgrid' )\n",
    "sns.set_palette( color ) "
   ]
  },
  {
   "cell_type": "markdown",
   "id": "dd5d4be6",
   "metadata": {},
   "source": [
    "## 0.1. Helper Functions"
   ]
  },
  {
   "cell_type": "markdown",
   "id": "0e0e6c41",
   "metadata": {},
   "source": [
    "## 0.2. Loading Data"
   ]
  },
  {
   "cell_type": "code",
   "execution_count": 21,
   "id": "ea816e26",
   "metadata": {
    "ExecuteTime": {
     "end_time": "2021-08-18T19:40:34.963721Z",
     "start_time": "2021-08-18T19:40:33.917557Z"
    }
   },
   "outputs": [],
   "source": [
    "df_sales_raw = pd.read_csv( 'data/train.csv', low_memory=False )\n",
    "df_store_raw = pd.read_csv( 'data/store.csv', low_memory=False )\n",
    "\n",
    "# merge\n",
    "df_raw = pd.merge( df_sales_raw, df_store_raw, how='left', on='Store' )"
   ]
  },
  {
   "cell_type": "markdown",
   "id": "aefa42ca",
   "metadata": {},
   "source": [
    "# 1.0. DESCRIÇÃO DOS DADOS"
   ]
  },
  {
   "cell_type": "code",
   "execution_count": 22,
   "id": "c2b99efe",
   "metadata": {
    "ExecuteTime": {
     "end_time": "2021-08-18T19:40:35.170396Z",
     "start_time": "2021-08-18T19:40:34.968715Z"
    }
   },
   "outputs": [],
   "source": [
    "df1 = df_raw.copy()"
   ]
  },
  {
   "cell_type": "markdown",
   "id": "e3eb7513",
   "metadata": {},
   "source": [
    "## 1.1. Rename Columns"
   ]
  },
  {
   "cell_type": "code",
   "execution_count": 23,
   "id": "3d6c548a",
   "metadata": {
    "ExecuteTime": {
     "end_time": "2021-08-18T19:40:35.185279Z",
     "start_time": "2021-08-18T19:40:35.176303Z"
    }
   },
   "outputs": [],
   "source": [
    "cols_old = df1.columns\n",
    "\n",
    "snakecase = lambda x: inflection.underscore( x )\n",
    "\n",
    "cols_new = list( map( snakecase, cols_old ) )\n",
    "\n",
    "# Rename\n",
    "df1.columns = cols_new"
   ]
  },
  {
   "cell_type": "markdown",
   "id": "1980b0ea",
   "metadata": {},
   "source": [
    "## 1.2. Data Dimensions"
   ]
  },
  {
   "cell_type": "code",
   "execution_count": 24,
   "id": "8957638b",
   "metadata": {
    "ExecuteTime": {
     "end_time": "2021-08-18T19:40:35.201236Z",
     "start_time": "2021-08-18T19:40:35.187273Z"
    }
   },
   "outputs": [
    {
     "name": "stdout",
     "output_type": "stream",
     "text": [
      "Number od Rows: 1017209\n",
      "Number od Rows: 18\n"
     ]
    }
   ],
   "source": [
    "print( 'Number od Rows: {}' .format( df1.shape[0] ) )\n",
    "print( 'Number od Rows: {}' .format( df1.shape[1] ) )"
   ]
  },
  {
   "cell_type": "markdown",
   "id": "450d0f78",
   "metadata": {},
   "source": [
    "## 1.3. Data Types"
   ]
  },
  {
   "cell_type": "code",
   "execution_count": 25,
   "id": "84165e80",
   "metadata": {
    "ExecuteTime": {
     "end_time": "2021-08-18T19:40:35.358034Z",
     "start_time": "2021-08-18T19:40:35.204229Z"
    }
   },
   "outputs": [
    {
     "data": {
      "text/plain": [
       "store                                    int64\n",
       "day_of_week                              int64\n",
       "date                            datetime64[ns]\n",
       "sales                                    int64\n",
       "customers                                int64\n",
       "open                                     int64\n",
       "promo                                    int64\n",
       "state_holiday                           object\n",
       "school_holiday                           int64\n",
       "store_type                              object\n",
       "assortment                              object\n",
       "competition_distance                   float64\n",
       "competition_open_since_month           float64\n",
       "competition_open_since_year            float64\n",
       "promo2                                   int64\n",
       "promo2_since_week                      float64\n",
       "promo2_since_year                      float64\n",
       "promo_interval                          object\n",
       "dtype: object"
      ]
     },
     "execution_count": 25,
     "metadata": {},
     "output_type": "execute_result"
    }
   ],
   "source": [
    "df1['date'] = pd.to_datetime( df1['date'] )\n",
    "df1.dtypes"
   ]
  },
  {
   "cell_type": "markdown",
   "id": "1d410a7e",
   "metadata": {},
   "source": [
    "## 1.4. Check NA"
   ]
  },
  {
   "cell_type": "code",
   "execution_count": 26,
   "id": "616e2c23",
   "metadata": {
    "ExecuteTime": {
     "end_time": "2021-08-18T19:40:35.559878Z",
     "start_time": "2021-08-18T19:40:35.358972Z"
    }
   },
   "outputs": [
    {
     "data": {
      "text/plain": [
       "store                                0\n",
       "day_of_week                          0\n",
       "date                                 0\n",
       "sales                                0\n",
       "customers                            0\n",
       "open                                 0\n",
       "promo                                0\n",
       "state_holiday                        0\n",
       "school_holiday                       0\n",
       "store_type                           0\n",
       "assortment                           0\n",
       "competition_distance              2642\n",
       "competition_open_since_month    323348\n",
       "competition_open_since_year     323348\n",
       "promo2                               0\n",
       "promo2_since_week               508031\n",
       "promo2_since_year               508031\n",
       "promo_interval                  508031\n",
       "dtype: int64"
      ]
     },
     "execution_count": 26,
     "metadata": {},
     "output_type": "execute_result"
    }
   ],
   "source": [
    "df1.isnull().sum()"
   ]
  },
  {
   "cell_type": "markdown",
   "id": "1bdc322f",
   "metadata": {},
   "source": [
    "## 1.5. Fillout NA"
   ]
  },
  {
   "cell_type": "markdown",
   "id": "9d745256",
   "metadata": {},
   "source": [
    "   1. **Competition_distance** (distance in meters to the nearest competitor store):\n",
    "       - I assume that, if there's NA, the store doesn't have a competition or the competitor are so far that can't be consired a competitor.\n",
    "       - Approach: Put a distance much far than the max distance in this feature.\n",
    "       \n",
    "\n",
    "   2. **Competition_open_since_month** (gives the approximate month of the time the nearest competitor was opened):\n",
    "   \n",
    "   There are at least two situations that explain why this columns are empty: \n",
    "       - **A**. The store doesn't have a near competitor. And then, there isn't an open date to competition.\n",
    "       - **B**. The store has a competitor, but it's no known when it opened.\n",
    "           - Might be because the competitor opend before the store open or it was opened after and wasn't registered.\n",
    "       - Approach: It'll be filled to the month value from the date column.\n",
    "       \n",
    "       \n",
    "   3. **Competition_open_since_year** (gives the approximate year of the time the nearest competitor was opened)\n",
    "   \n",
    "   The same approach as before, but now it'll be filled with the year.\n",
    "   \n",
    "\n",
    "   4. **promo2_since_week and promo2_since_year** (describes the year and calendar week when the store started participating in Promo2)\n",
    "       - If it is NA, it means that the stores decided not to continue with the promo2, so this information has not been available \"since when\", as it has not adopted it at any time.\n",
    "       - Approach: It'll be filled by year and week values from the date column.\n",
    "       \n",
    "       \n",
    "   5. **promo_interval** (describes the consecutive intervals Promo2 is started, naming the months the promotion is started anew. E.g. \"Feb,May,Aug,Nov\" means each round starts in February, May, August, November of any given year for that store)\n",
    "       \n",
    "       - Approach: It'll be filled by 0, It means that the store is not between the interval of months that the promo2 started.\n",
    "       \n",
    "       \n",
    "   6. **month_map** (new feature created)\n",
    "       - It'll be filled by the month from the \"date\" column in string form (Jan, Feb, ..., Dec) to be compared with the \"promo_interval\" feature.\n",
    "       \n",
    "       \n",
    "   7. **is_promo** (new feature created)\n",
    "       - Receives 1 when the store has a promotion and 0 when it doesn't.\n",
    "       - Approach: if the month in the \"month_map\" column is between the months \"Feb,May,Aug,Nov\" that are in the promo_interval column it returns 1, if not, it returns 0"
   ]
  },
  {
   "cell_type": "code",
   "execution_count": 27,
   "id": "6013b65a",
   "metadata": {
    "ExecuteTime": {
     "end_time": "2021-08-18T19:40:35.591865Z",
     "start_time": "2021-08-18T19:40:35.563914Z"
    }
   },
   "outputs": [
    {
     "data": {
      "text/plain": [
       "75860.0"
      ]
     },
     "execution_count": 27,
     "metadata": {},
     "output_type": "execute_result"
    }
   ],
   "source": [
    "df1['competition_distance'].max()"
   ]
  },
  {
   "cell_type": "code",
   "execution_count": 28,
   "id": "5568a9de",
   "metadata": {
    "ExecuteTime": {
     "end_time": "2021-08-18T19:42:00.408596Z",
     "start_time": "2021-08-18T19:40:35.598782Z"
    }
   },
   "outputs": [],
   "source": [
    "#competition_distance \n",
    "df1['competition_distance'] = df1['competition_distance'].apply( lambda x: 200000.0 if math.isnan( x ) else x )\n",
    "\n",
    "#competition_open_since_month    \n",
    "df1['competition_open_since_month'] = df1.apply( lambda x: x['date'].month if math.isnan( x['competition_open_since_month'] ) else x['competition_open_since_month'], axis=1 ) \n",
    "\n",
    "#competition_open_since_year     \n",
    "df1['competition_open_since_year'] = df1.apply( lambda x: x['date'].year if math.isnan( x['competition_open_since_year'] ) else x['competition_open_since_year'], axis=1 ) \n",
    "\n",
    "#promo2_since_week               \n",
    "df1['promo2_since_week'] = df1.apply( lambda x: x['date'].week if math.isnan( x['promo2_since_week'] ) else x['promo2_since_week'], axis=1 ) \n",
    "\n",
    "#promo2_since_year               \n",
    "df1['promo2_since_year'] = df1.apply( lambda x: x['date'].year if math.isnan( x['promo2_since_year'] ) else x['promo2_since_year'], axis=1 ) \n",
    "  \n",
    "#promo_interval                  \n",
    "df1['promo_interval'].fillna( 0, inplace=True )\n",
    "\n",
    "#month_map\n",
    "month_map = {1: 'Jan', 2: 'Fev', 3: 'Mar',4: 'Apr', 5: 'May', 6: 'Jun', 7: 'Jul', 8: 'Aug', 9: 'Sep', 10: 'Oct', 11: 'Nov', 12: 'Dec'}\n",
    "\n",
    "df1['month_map'] = df1['date'].dt.month.map( month_map )\n",
    "\n",
    "#is_promo\n",
    "df1['is_promo'] = df1[['promo_interval','month_map']].apply( lambda x: 0 if x['promo_interval'] == 0 else 1 if x['month_map'] in x['promo_interval'].split( ',' ) else 0, axis=1 )"
   ]
  },
  {
   "cell_type": "code",
   "execution_count": 29,
   "id": "86567738",
   "metadata": {
    "ExecuteTime": {
     "end_time": "2021-08-18T19:42:00.646032Z",
     "start_time": "2021-08-18T19:42:00.412590Z"
    },
    "code_folding": []
   },
   "outputs": [
    {
     "data": {
      "text/plain": [
       "store                           0\n",
       "day_of_week                     0\n",
       "date                            0\n",
       "sales                           0\n",
       "customers                       0\n",
       "open                            0\n",
       "promo                           0\n",
       "state_holiday                   0\n",
       "school_holiday                  0\n",
       "store_type                      0\n",
       "assortment                      0\n",
       "competition_distance            0\n",
       "competition_open_since_month    0\n",
       "competition_open_since_year     0\n",
       "promo2                          0\n",
       "promo2_since_week               0\n",
       "promo2_since_year               0\n",
       "promo_interval                  0\n",
       "month_map                       0\n",
       "is_promo                        0\n",
       "dtype: int64"
      ]
     },
     "execution_count": 29,
     "metadata": {},
     "output_type": "execute_result"
    }
   ],
   "source": [
    "df1.isnull().sum()"
   ]
  },
  {
   "cell_type": "markdown",
   "id": "7ece4e3f",
   "metadata": {},
   "source": [
    "## 1.6. Change Types"
   ]
  },
  {
   "cell_type": "markdown",
   "id": "4870eb22",
   "metadata": {},
   "source": [
    "Convert the type of data after this changes done."
   ]
  },
  {
   "cell_type": "code",
   "execution_count": 30,
   "id": "8ca5b19c",
   "metadata": {
    "ExecuteTime": {
     "end_time": "2021-08-18T19:42:00.724520Z",
     "start_time": "2021-08-18T19:42:00.648966Z"
    }
   },
   "outputs": [],
   "source": [
    "df1['competition_open_since_month'] = df1['competition_open_since_month'].astype( np.int64 )\n",
    "df1['competition_open_since_year']  = df1['competition_open_since_year'].astype( np.int64 )\n",
    "\n",
    "df1['promo2_since_week'] = df1['promo2_since_week'].astype( np.int64 )\n",
    "df1['promo2_since_year'] = df1['promo2_since_year'].astype( np.int64 )"
   ]
  },
  {
   "cell_type": "markdown",
   "id": "f7c3ca3b",
   "metadata": {},
   "source": [
    "## 1.7. Descriptive Statistical\n",
    "\n",
    "Descriptive statistics to numerical and categorical variables. It might be important to have a sight how the process is working about, And be able to see possible problems or inconsistencies in the dataset just taking a look at these numbers.\n",
    "\n",
    "Split of two auxiliary DataFrames, a numerical and a categorical."
   ]
  },
  {
   "cell_type": "code",
   "execution_count": 31,
   "id": "9b451959",
   "metadata": {
    "ExecuteTime": {
     "end_time": "2021-08-18T19:42:00.914498Z",
     "start_time": "2021-08-18T19:42:00.730424Z"
    }
   },
   "outputs": [],
   "source": [
    "num_attributes = df1.select_dtypes( include=['int64','float64'] )\n",
    "cat_attributes = df1.select_dtypes( exclude=['int64','float64','datetime64[ns]'] )"
   ]
  },
  {
   "cell_type": "markdown",
   "id": "5d187c61",
   "metadata": {},
   "source": [
    "### 1.7.1 Numerical Attributes"
   ]
  },
  {
   "cell_type": "markdown",
   "id": "681e3e80",
   "metadata": {},
   "source": [
    " - It's showed known measures of central tendency as mean and median.\n",
    " - It's showed known measures of dispersion tendency as standard deviation, min, max, range, skew and kurtosis.\n",
    " \n",
    "**Skewness** is a measure of symmetry, or more precisely, the lack of symmetry. A distribution, or data set, is symmetric if it looks the same to the left and right of the center point.\n",
    "\n",
    "**Kurtosis** is a measure of whether the data are heavy-tailed or light-tailed relative to a normal distribution. That is, data sets with high kurtosis tend to have heavy tails, or outliers. Data sets with low kurtosis tend to have light tails, or lack of outliers. A uniform distribution would be the extreme case."
   ]
  },
  {
   "cell_type": "code",
   "execution_count": 32,
   "id": "25803e1b",
   "metadata": {
    "ExecuteTime": {
     "end_time": "2021-08-18T19:42:01.809560Z",
     "start_time": "2021-08-18T19:42:00.917433Z"
    }
   },
   "outputs": [
    {
     "data": {
      "text/html": [
       "<div>\n",
       "<style scoped>\n",
       "    .dataframe tbody tr th:only-of-type {\n",
       "        vertical-align: middle;\n",
       "    }\n",
       "\n",
       "    .dataframe tbody tr th {\n",
       "        vertical-align: top;\n",
       "    }\n",
       "\n",
       "    .dataframe thead th {\n",
       "        text-align: right;\n",
       "    }\n",
       "</style>\n",
       "<table border=\"1\" class=\"dataframe\">\n",
       "  <thead>\n",
       "    <tr style=\"text-align: right;\">\n",
       "      <th></th>\n",
       "      <th>min</th>\n",
       "      <th>max</th>\n",
       "      <th>range</th>\n",
       "      <th>mean</th>\n",
       "      <th>median</th>\n",
       "      <th>std</th>\n",
       "      <th>skew</th>\n",
       "      <th>kurtosis</th>\n",
       "    </tr>\n",
       "  </thead>\n",
       "  <tbody>\n",
       "    <tr>\n",
       "      <th>store</th>\n",
       "      <td>1.0</td>\n",
       "      <td>1115.0</td>\n",
       "      <td>1114.0</td>\n",
       "      <td>558.429727</td>\n",
       "      <td>558.0</td>\n",
       "      <td>321.908493</td>\n",
       "      <td>-0.000955</td>\n",
       "      <td>-1.200524</td>\n",
       "    </tr>\n",
       "    <tr>\n",
       "      <th>day_of_week</th>\n",
       "      <td>1.0</td>\n",
       "      <td>7.0</td>\n",
       "      <td>6.0</td>\n",
       "      <td>3.998341</td>\n",
       "      <td>4.0</td>\n",
       "      <td>1.997390</td>\n",
       "      <td>0.001593</td>\n",
       "      <td>-1.246873</td>\n",
       "    </tr>\n",
       "    <tr>\n",
       "      <th>sales</th>\n",
       "      <td>0.0</td>\n",
       "      <td>41551.0</td>\n",
       "      <td>41551.0</td>\n",
       "      <td>5773.818972</td>\n",
       "      <td>5744.0</td>\n",
       "      <td>3849.924283</td>\n",
       "      <td>0.641460</td>\n",
       "      <td>1.778375</td>\n",
       "    </tr>\n",
       "    <tr>\n",
       "      <th>customers</th>\n",
       "      <td>0.0</td>\n",
       "      <td>7388.0</td>\n",
       "      <td>7388.0</td>\n",
       "      <td>633.145946</td>\n",
       "      <td>609.0</td>\n",
       "      <td>464.411506</td>\n",
       "      <td>1.598650</td>\n",
       "      <td>7.091773</td>\n",
       "    </tr>\n",
       "    <tr>\n",
       "      <th>open</th>\n",
       "      <td>0.0</td>\n",
       "      <td>1.0</td>\n",
       "      <td>1.0</td>\n",
       "      <td>0.830107</td>\n",
       "      <td>1.0</td>\n",
       "      <td>0.375539</td>\n",
       "      <td>-1.758045</td>\n",
       "      <td>1.090723</td>\n",
       "    </tr>\n",
       "    <tr>\n",
       "      <th>promo</th>\n",
       "      <td>0.0</td>\n",
       "      <td>1.0</td>\n",
       "      <td>1.0</td>\n",
       "      <td>0.381515</td>\n",
       "      <td>0.0</td>\n",
       "      <td>0.485758</td>\n",
       "      <td>0.487838</td>\n",
       "      <td>-1.762018</td>\n",
       "    </tr>\n",
       "    <tr>\n",
       "      <th>school_holiday</th>\n",
       "      <td>0.0</td>\n",
       "      <td>1.0</td>\n",
       "      <td>1.0</td>\n",
       "      <td>0.178647</td>\n",
       "      <td>0.0</td>\n",
       "      <td>0.383056</td>\n",
       "      <td>1.677842</td>\n",
       "      <td>0.815154</td>\n",
       "    </tr>\n",
       "    <tr>\n",
       "      <th>competition_distance</th>\n",
       "      <td>20.0</td>\n",
       "      <td>200000.0</td>\n",
       "      <td>199980.0</td>\n",
       "      <td>5935.442677</td>\n",
       "      <td>2330.0</td>\n",
       "      <td>12547.646829</td>\n",
       "      <td>10.242344</td>\n",
       "      <td>147.789712</td>\n",
       "    </tr>\n",
       "    <tr>\n",
       "      <th>competition_open_since_month</th>\n",
       "      <td>1.0</td>\n",
       "      <td>12.0</td>\n",
       "      <td>11.0</td>\n",
       "      <td>6.786849</td>\n",
       "      <td>7.0</td>\n",
       "      <td>3.311085</td>\n",
       "      <td>-0.042076</td>\n",
       "      <td>-1.232607</td>\n",
       "    </tr>\n",
       "    <tr>\n",
       "      <th>competition_open_since_year</th>\n",
       "      <td>1900.0</td>\n",
       "      <td>2015.0</td>\n",
       "      <td>115.0</td>\n",
       "      <td>2010.324840</td>\n",
       "      <td>2012.0</td>\n",
       "      <td>5.515591</td>\n",
       "      <td>-7.235657</td>\n",
       "      <td>124.071304</td>\n",
       "    </tr>\n",
       "    <tr>\n",
       "      <th>promo2</th>\n",
       "      <td>0.0</td>\n",
       "      <td>1.0</td>\n",
       "      <td>1.0</td>\n",
       "      <td>0.500564</td>\n",
       "      <td>1.0</td>\n",
       "      <td>0.500000</td>\n",
       "      <td>-0.002255</td>\n",
       "      <td>-1.999999</td>\n",
       "    </tr>\n",
       "    <tr>\n",
       "      <th>promo2_since_week</th>\n",
       "      <td>1.0</td>\n",
       "      <td>52.0</td>\n",
       "      <td>51.0</td>\n",
       "      <td>23.619033</td>\n",
       "      <td>22.0</td>\n",
       "      <td>14.310057</td>\n",
       "      <td>0.178723</td>\n",
       "      <td>-1.184046</td>\n",
       "    </tr>\n",
       "    <tr>\n",
       "      <th>promo2_since_year</th>\n",
       "      <td>2009.0</td>\n",
       "      <td>2015.0</td>\n",
       "      <td>6.0</td>\n",
       "      <td>2012.793297</td>\n",
       "      <td>2013.0</td>\n",
       "      <td>1.662657</td>\n",
       "      <td>-0.784436</td>\n",
       "      <td>-0.210075</td>\n",
       "    </tr>\n",
       "    <tr>\n",
       "      <th>is_promo</th>\n",
       "      <td>0.0</td>\n",
       "      <td>1.0</td>\n",
       "      <td>1.0</td>\n",
       "      <td>0.155231</td>\n",
       "      <td>0.0</td>\n",
       "      <td>0.362124</td>\n",
       "      <td>1.904152</td>\n",
       "      <td>1.625796</td>\n",
       "    </tr>\n",
       "  </tbody>\n",
       "</table>\n",
       "</div>"
      ],
      "text/plain": [
       "                                 min       max     range         mean  median  \\\n",
       "store                            1.0    1115.0    1114.0   558.429727   558.0   \n",
       "day_of_week                      1.0       7.0       6.0     3.998341     4.0   \n",
       "sales                            0.0   41551.0   41551.0  5773.818972  5744.0   \n",
       "customers                        0.0    7388.0    7388.0   633.145946   609.0   \n",
       "open                             0.0       1.0       1.0     0.830107     1.0   \n",
       "promo                            0.0       1.0       1.0     0.381515     0.0   \n",
       "school_holiday                   0.0       1.0       1.0     0.178647     0.0   \n",
       "competition_distance            20.0  200000.0  199980.0  5935.442677  2330.0   \n",
       "competition_open_since_month     1.0      12.0      11.0     6.786849     7.0   \n",
       "competition_open_since_year   1900.0    2015.0     115.0  2010.324840  2012.0   \n",
       "promo2                           0.0       1.0       1.0     0.500564     1.0   \n",
       "promo2_since_week                1.0      52.0      51.0    23.619033    22.0   \n",
       "promo2_since_year             2009.0    2015.0       6.0  2012.793297  2013.0   \n",
       "is_promo                         0.0       1.0       1.0     0.155231     0.0   \n",
       "\n",
       "                                       std       skew    kurtosis  \n",
       "store                           321.908493  -0.000955   -1.200524  \n",
       "day_of_week                       1.997390   0.001593   -1.246873  \n",
       "sales                          3849.924283   0.641460    1.778375  \n",
       "customers                       464.411506   1.598650    7.091773  \n",
       "open                              0.375539  -1.758045    1.090723  \n",
       "promo                             0.485758   0.487838   -1.762018  \n",
       "school_holiday                    0.383056   1.677842    0.815154  \n",
       "competition_distance          12547.646829  10.242344  147.789712  \n",
       "competition_open_since_month      3.311085  -0.042076   -1.232607  \n",
       "competition_open_since_year       5.515591  -7.235657  124.071304  \n",
       "promo2                            0.500000  -0.002255   -1.999999  \n",
       "promo2_since_week                14.310057   0.178723   -1.184046  \n",
       "promo2_since_year                 1.662657  -0.784436   -0.210075  \n",
       "is_promo                          0.362124   1.904152    1.625796  "
      ]
     },
     "execution_count": 32,
     "metadata": {},
     "output_type": "execute_result"
    }
   ],
   "source": [
    "c1 = pd.DataFrame( num_attributes.apply( np.mean ) ).T\n",
    "c2 = pd.DataFrame( num_attributes.apply( np.median ) ).T\n",
    "\n",
    "c3 = pd.DataFrame( num_attributes.apply( np.std ) ).T\n",
    "c4 = pd.DataFrame( num_attributes.apply( np.min ) ).T\n",
    "c5 = pd.DataFrame( num_attributes.apply( np.max ) ).T\n",
    "c6 = pd.DataFrame( num_attributes.apply( lambda x: x.max() - x.min() ) ).T\n",
    "c7 = pd.DataFrame( num_attributes.apply( lambda x: x.skew() ) ).T\n",
    "c8 = pd.DataFrame( num_attributes.apply( lambda x: x.kurtosis() ) ).T\n",
    "\n",
    "metrics = pd.concat( [c4, c5, c6, c1, c2, c3, c7, c8] ).T\n",
    "metrics.columns = ['min','max','range','mean','median','std','skew','kurtosis']\n",
    "metrics"
   ]
  },
  {
   "cell_type": "markdown",
   "id": "a5283d16",
   "metadata": {},
   "source": [
    "Information took to the feature \"competition_distance\" \n",
    "\n",
    " - Skew is much high suggesting a right asymmetry. \n",
    " - kurtose much high tend to have heavy tails, or outliers. **(this feature was influenced to the process I've done before on step 1.5.)**\n",
    "\n",
    "together with this information, it's showed that the most store that have a competition has a lower distance between its competitor"
   ]
  },
  {
   "cell_type": "code",
   "execution_count": 33,
   "id": "64a108c3",
   "metadata": {
    "ExecuteTime": {
     "end_time": "2021-08-18T19:42:12.290762Z",
     "start_time": "2021-08-18T19:42:01.811553Z"
    }
   },
   "outputs": [
    {
     "data": {
      "text/plain": [
       "<AxesSubplot:xlabel='competition_distance', ylabel='Count'>"
      ]
     },
     "execution_count": 33,
     "metadata": {},
     "output_type": "execute_result"
    },
    {
     "data": {
      "image/png": "[encoded data removed]",
      "text/plain": [
       "<Figure size 1080x576 with 1 Axes>"
      ]
     },
     "metadata": {},
     "output_type": "display_data"
    }
   ],
   "source": [
    "plt.figure( figsize=( 15, 8 ) )\n",
    "sns.histplot( df1['competition_distance'], kde=True, bins=50 )"
   ]
  },
  {
   "cell_type": "markdown",
   "id": "0b24ada6",
   "metadata": {},
   "source": [
    "### 1.7.2 Categorical Attributes"
   ]
  },
  {
   "cell_type": "code",
   "execution_count": 34,
   "id": "0111ff8a",
   "metadata": {
    "ExecuteTime": {
     "end_time": "2021-08-18T19:42:12.526954Z",
     "start_time": "2021-08-18T19:42:12.292757Z"
    }
   },
   "outputs": [
    {
     "data": {
      "text/plain": [
       "state_holiday      4\n",
       "store_type         4\n",
       "assortment         3\n",
       "promo_interval     4\n",
       "month_map         12\n",
       "dtype: int64"
      ]
     },
     "execution_count": 34,
     "metadata": {},
     "output_type": "execute_result"
    }
   ],
   "source": [
    "# unique values of each categorical feature\n",
    "cat_attributes.apply( lambda x: x.unique().shape[0] )"
   ]
  },
  {
   "cell_type": "markdown",
   "id": "92718fa0",
   "metadata": {},
   "source": [
    "Filtering the dataset, taking out the lines that contains the day when the store is closed (sales=0) and filtering by state_holiday (state_holiday=0 means that there isn't any state_holiday).\n",
    "\n",
    " - **StateHoliday**: indicates a state holiday. Normally all stores, with few exceptions, are closed on state holidays. Note that all schools are closed on public holidays and weekends. a = public holiday, b = Easter holiday, c = Christmas, 0 = None\n",
    " - **StoreType**:    differentiates between 4 different store models: a, b, c, d\n",
    " - **Assortment**:   describes an assortment level: a = basic, b = extra, c = extended\n",
    " \n",
    "seing the graphs it's possible take some information such as:\n",
    "\n",
    " - The store type \"b\" has its median much higher than another one's and much outliers as well.\n",
    " - The state holiday are much similar among each other."
   ]
  },
  {
   "cell_type": "code",
   "execution_count": 35,
   "id": "37ad7364",
   "metadata": {
    "ExecuteTime": {
     "end_time": "2021-08-18T19:42:13.094738Z",
     "start_time": "2021-08-18T19:42:12.528954Z"
    }
   },
   "outputs": [
    {
     "data": {
      "image/png": "[encoded data removed]",
      "text/plain": [
       "<Figure size 1080x360 with 3 Axes>"
      ]
     },
     "metadata": {},
     "output_type": "display_data"
    }
   ],
   "source": [
    "plt.figure( figsize=( 15, 5 ) )\n",
    "\n",
    "aux = df1[( df1['state_holiday'] != '0' ) & ( df1['sales'] >0 ) ]\n",
    "\n",
    "plt.subplot( 1, 3, 1 )\n",
    "sns.boxplot( x='state_holiday', y='sales', data=aux )\n",
    "\n",
    "plt.subplot( 1, 3, 2 )\n",
    "sns.boxplot( x='store_type', y='sales', data=aux )\n",
    "\n",
    "plt.subplot( 1, 3, 3 )\n",
    "sns.boxplot( x='assortment', y='sales', data=aux )\n",
    "\n",
    "plt.tight_layout()"
   ]
  },
  {
   "cell_type": "markdown",
   "id": "5ff43297",
   "metadata": {},
   "source": [
    "# 2.0 Feature Engineering"
   ]
  },
  {
   "cell_type": "code",
   "execution_count": 36,
   "id": "28e81a4c",
   "metadata": {
    "ExecuteTime": {
     "end_time": "2021-08-18T19:42:13.158674Z",
     "start_time": "2021-08-18T19:42:13.097731Z"
    }
   },
   "outputs": [],
   "source": [
    "df2 = df1.copy()"
   ]
  },
  {
   "cell_type": "markdown",
   "id": "288bcaeb",
   "metadata": {},
   "source": [
    "## 2.1. MindMap Hypotesis"
   ]
  },
  {
   "cell_type": "code",
   "execution_count": 37,
   "id": "7bf74478",
   "metadata": {
    "ExecuteTime": {
     "end_time": "2021-08-18T19:42:13.174615Z",
     "start_time": "2021-08-18T19:42:13.160653Z"
    }
   },
   "outputs": [
    {
     "data": {
      "image/png": "[encoded data removed]",
      "text/plain": [
       "<IPython.core.display.Image object>"
      ]
     },
     "execution_count": 37,
     "metadata": {},
     "output_type": "execute_result"
    }
   ],
   "source": [
    "Image( 'img/DAILY_STORE_SALES_01.png' )"
   ]
  },
  {
   "cell_type": "markdown",
   "id": "023a80d5",
   "metadata": {},
   "source": [
    "## 2.2. Creating Hypotesis"
   ]
  },
  {
   "cell_type": "markdown",
   "id": "4d8a831d",
   "metadata": {
    "heading_collapsed": true
   },
   "source": [
    "### 2.2.1 Store Hypotesis"
   ]
  },
  {
   "cell_type": "markdown",
   "id": "394c43ef",
   "metadata": {
    "hidden": true
   },
   "source": [
    "**1.** Lojas com maior quadro de funcionários deveriam vender mais.\n",
    "\n",
    "**2.** Lojas com maior capacidade de estoque deveriam vender mais.\n",
    "\n",
    "**3.** Lojas com maior porte deveriam vender mais.\n",
    "\n",
    "**4.** Lojas com maior sortimento deveriam vender mais.\n",
    "\n",
    "**5.** Lojas com competidors mais proximos deveriam vender menos\n",
    "\n",
    "**6.** Lojas com competidores a mais tempo deveriam vender mais."
   ]
  },
  {
   "cell_type": "markdown",
   "id": "2a9b850e",
   "metadata": {
    "heading_collapsed": true
   },
   "source": [
    "### 2.2.2 Store Hypotesis"
   ]
  },
  {
   "cell_type": "markdown",
   "id": "a4fac4cc",
   "metadata": {
    "hidden": true
   },
   "source": [
    "**1.** Lojas que investem mais em marketing deveriam vender mais\n",
    "\n",
    "**2.** Lojas com maior exposição de produto deveriam vender mais\n",
    "\n",
    "**3.** Lojas que tem preços menores nos produtos deveriam vender mais. \n",
    "\n",
    "**4.** Lojas com promoções mais agressivas (descontos maiores), deveriam vender mais.\n",
    "\n",
    "**5.** Lojas compromoções ativas por mais tempo deveriam vender mais\n",
    "\n",
    "**6.** Lojas com mais dias de promoção deveriam vender mais\n",
    "\n",
    "**7.** Lojas com mais promoções consecutivas deveriam vender mais"
   ]
  },
  {
   "cell_type": "markdown",
   "id": "5a3af7ab",
   "metadata": {
    "heading_collapsed": true
   },
   "source": [
    "### 2.2.3 Store Hypotesis"
   ]
  },
  {
   "cell_type": "markdown",
   "id": "87703312",
   "metadata": {
    "hidden": true
   },
   "source": [
    "**1.** Lojas abertas durante o feriado de natal deveriam vender mais\n",
    "\n",
    "**2.** Lojas deveriam vender mais ao longo dos anos\n",
    "\n",
    "**3.** Lojas deveriam vender mais no segundo semestre do ano\n",
    "\n",
    "**4.** Lojas deveriam vender mais depois do dia 10 de cada mês\n",
    "\n",
    "**5.** Lojas deveriam vender menos aos finais de semana\n",
    "\n",
    "**6.** Lojas deveriam vender menos durante feriados escolares"
   ]
  },
  {
   "cell_type": "markdown",
   "id": "d6f3ddfb",
   "metadata": {
    "heading_collapsed": true
   },
   "source": [
    "## 2.3. Final Hypotesis List"
   ]
  },
  {
   "cell_type": "markdown",
   "id": "1dface41",
   "metadata": {
    "hidden": true
   },
   "source": [
    "**1.** Lojas com maior sortimento deveriam vender mais.\n",
    "\n",
    "**2.** Lojas com competidors mais proximos deveriam vender menos\n",
    "\n",
    "**3.** Lojas com competidores a mais tempo deveriam vender mais.\n",
    "\n",
    "**4.** Lojas compromoções ativas por mais tempo deveriam vender mais\n",
    "\n",
    "**5.** Lojas com mais dias de promoção deveriam vender mais\n",
    "\n",
    "**6.** Lojas com mais promoções consecutivas deveriam vender mais\n",
    "\n",
    "**7.** Lojas abertas durante o feriado de natal deveriam vender mais\n",
    "\n",
    "**8.** Lojas deveriam vender mais ao longo dos anos\n",
    "\n",
    "**9.** Lojas deveriam vender mais no segundo semestre do ano\n",
    "\n",
    "**10.** Lojas deveriam vender mais depois do dia 10 de cada mês\n",
    "\n",
    "**11.** Lojas deveriam vender menos aos finais de semana\n",
    "\n",
    "**12.** Lojas deveriam vender menos durante feriados escolares"
   ]
  },
  {
   "cell_type": "markdown",
   "id": "47d36f27",
   "metadata": {},
   "source": [
    "## 2.4. Feature Engineering"
   ]
  },
  {
   "cell_type": "code",
   "execution_count": 38,
   "id": "a8908b5d",
   "metadata": {
    "ExecuteTime": {
     "end_time": "2021-08-18T19:43:15.022103Z",
     "start_time": "2021-08-18T19:42:13.177608Z"
    }
   },
   "outputs": [],
   "source": [
    "# year\n",
    "df2['year'] = df2['date'].dt.year\n",
    "\n",
    "# month\n",
    "df2['month'] = df2['date'].dt.month\n",
    "\n",
    "# day\n",
    "df2['day'] = df2['date'].dt.day\n",
    "\n",
    "# week of year\n",
    "df2['week_of_year'] = df2['date'].dt.isocalendar().week\n",
    "\n",
    "# year week\n",
    "df2['year_week'] = df2['date'].dt.strftime( '%Y-%W' )\n",
    "\n",
    "# competition since\n",
    "df2['competition_since'] = df2.apply( lambda x: datetime.datetime( year=x['competition_open_since_year'], month=x['competition_open_since_month'], day=1 ), axis=1 )\n",
    "df2['competition_time_month'] = ( ( df2['date'] - df2['competition_since'] ) / 30 ).apply( lambda x: x.days ).astype( np.int64 )\n",
    "\n",
    "# promo since\n",
    "df2['promo_since'] = df2['promo2_since_year'].astype( str ) + '-'+ df2['promo2_since_week'].astype( str )\n",
    "df2['promo_since'] = df2['promo_since'].apply( lambda x: datetime.datetime.strptime( x + '-1', '%Y-%W-%w') - datetime.timedelta( days = 7) )\n",
    "\n",
    "df2['promo_time_week'] = ( ( df2['date'] - df2['promo_since'] ) / 7 ).apply( lambda x: x.days).astype( np.int64 )\n",
    "\n",
    "# assortment\n",
    "df2['assortment'] = df2['assortment'].apply( lambda x: 'basic' if x=='a' else 'extra' if x=='b' else 'extended' )\n",
    "\n",
    "# state holiday\n",
    "df2['state_holiday'] = df2['state_holiday'].apply( lambda x: 'public_holiday' if x=='a' else 'Easter holiday' if x=='b' else 'Christmas' if x=='c' else 'regular_day' )"
   ]
  },
  {
   "cell_type": "markdown",
   "id": "60809d8a",
   "metadata": {},
   "source": [
    "# 3.0. Filtering Varibles"
   ]
  },
  {
   "cell_type": "code",
   "execution_count": 44,
   "id": "508c862e",
   "metadata": {
    "ExecuteTime": {
     "end_time": "2021-08-18T19:48:44.373055Z",
     "start_time": "2021-08-18T19:48:44.122659Z"
    }
   },
   "outputs": [],
   "source": [
    "df3 = df2.copy()"
   ]
  },
  {
   "cell_type": "code",
   "execution_count": 45,
   "id": "e7a441c3",
   "metadata": {
    "ExecuteTime": {
     "end_time": "2021-08-18T19:48:44.418969Z",
     "start_time": "2021-08-18T19:48:44.377075Z"
    }
   },
   "outputs": [
    {
     "data": {
      "text/html": [
       "<div>\n",
       "<style scoped>\n",
       "    .dataframe tbody tr th:only-of-type {\n",
       "        vertical-align: middle;\n",
       "    }\n",
       "\n",
       "    .dataframe tbody tr th {\n",
       "        vertical-align: top;\n",
       "    }\n",
       "\n",
       "    .dataframe thead th {\n",
       "        text-align: right;\n",
       "    }\n",
       "</style>\n",
       "<table border=\"1\" class=\"dataframe\">\n",
       "  <thead>\n",
       "    <tr style=\"text-align: right;\">\n",
       "      <th></th>\n",
       "      <th>store</th>\n",
       "      <th>day_of_week</th>\n",
       "      <th>date</th>\n",
       "      <th>sales</th>\n",
       "      <th>customers</th>\n",
       "      <th>open</th>\n",
       "      <th>promo</th>\n",
       "      <th>state_holiday</th>\n",
       "      <th>school_holiday</th>\n",
       "      <th>store_type</th>\n",
       "      <th>...</th>\n",
       "      <th>is_promo</th>\n",
       "      <th>year</th>\n",
       "      <th>month</th>\n",
       "      <th>day</th>\n",
       "      <th>week_of_year</th>\n",
       "      <th>year_week</th>\n",
       "      <th>competition_since</th>\n",
       "      <th>competition_time_month</th>\n",
       "      <th>promo_since</th>\n",
       "      <th>promo_time_week</th>\n",
       "    </tr>\n",
       "  </thead>\n",
       "  <tbody>\n",
       "    <tr>\n",
       "      <th>0</th>\n",
       "      <td>1</td>\n",
       "      <td>5</td>\n",
       "      <td>2015-07-31</td>\n",
       "      <td>5263</td>\n",
       "      <td>555</td>\n",
       "      <td>1</td>\n",
       "      <td>1</td>\n",
       "      <td>regular_day</td>\n",
       "      <td>1</td>\n",
       "      <td>c</td>\n",
       "      <td>...</td>\n",
       "      <td>0</td>\n",
       "      <td>2015</td>\n",
       "      <td>7</td>\n",
       "      <td>31</td>\n",
       "      <td>31</td>\n",
       "      <td>2015-30</td>\n",
       "      <td>2008-09-01</td>\n",
       "      <td>84</td>\n",
       "      <td>2015-07-27</td>\n",
       "      <td>0</td>\n",
       "    </tr>\n",
       "    <tr>\n",
       "      <th>1</th>\n",
       "      <td>2</td>\n",
       "      <td>5</td>\n",
       "      <td>2015-07-31</td>\n",
       "      <td>6064</td>\n",
       "      <td>625</td>\n",
       "      <td>1</td>\n",
       "      <td>1</td>\n",
       "      <td>regular_day</td>\n",
       "      <td>1</td>\n",
       "      <td>a</td>\n",
       "      <td>...</td>\n",
       "      <td>1</td>\n",
       "      <td>2015</td>\n",
       "      <td>7</td>\n",
       "      <td>31</td>\n",
       "      <td>31</td>\n",
       "      <td>2015-30</td>\n",
       "      <td>2007-11-01</td>\n",
       "      <td>94</td>\n",
       "      <td>2010-03-22</td>\n",
       "      <td>279</td>\n",
       "    </tr>\n",
       "    <tr>\n",
       "      <th>2</th>\n",
       "      <td>3</td>\n",
       "      <td>5</td>\n",
       "      <td>2015-07-31</td>\n",
       "      <td>8314</td>\n",
       "      <td>821</td>\n",
       "      <td>1</td>\n",
       "      <td>1</td>\n",
       "      <td>regular_day</td>\n",
       "      <td>1</td>\n",
       "      <td>a</td>\n",
       "      <td>...</td>\n",
       "      <td>1</td>\n",
       "      <td>2015</td>\n",
       "      <td>7</td>\n",
       "      <td>31</td>\n",
       "      <td>31</td>\n",
       "      <td>2015-30</td>\n",
       "      <td>2006-12-01</td>\n",
       "      <td>105</td>\n",
       "      <td>2011-03-28</td>\n",
       "      <td>226</td>\n",
       "    </tr>\n",
       "    <tr>\n",
       "      <th>3</th>\n",
       "      <td>4</td>\n",
       "      <td>5</td>\n",
       "      <td>2015-07-31</td>\n",
       "      <td>13995</td>\n",
       "      <td>1498</td>\n",
       "      <td>1</td>\n",
       "      <td>1</td>\n",
       "      <td>regular_day</td>\n",
       "      <td>1</td>\n",
       "      <td>c</td>\n",
       "      <td>...</td>\n",
       "      <td>0</td>\n",
       "      <td>2015</td>\n",
       "      <td>7</td>\n",
       "      <td>31</td>\n",
       "      <td>31</td>\n",
       "      <td>2015-30</td>\n",
       "      <td>2009-09-01</td>\n",
       "      <td>71</td>\n",
       "      <td>2015-07-27</td>\n",
       "      <td>0</td>\n",
       "    </tr>\n",
       "    <tr>\n",
       "      <th>4</th>\n",
       "      <td>5</td>\n",
       "      <td>5</td>\n",
       "      <td>2015-07-31</td>\n",
       "      <td>4822</td>\n",
       "      <td>559</td>\n",
       "      <td>1</td>\n",
       "      <td>1</td>\n",
       "      <td>regular_day</td>\n",
       "      <td>1</td>\n",
       "      <td>a</td>\n",
       "      <td>...</td>\n",
       "      <td>0</td>\n",
       "      <td>2015</td>\n",
       "      <td>7</td>\n",
       "      <td>31</td>\n",
       "      <td>31</td>\n",
       "      <td>2015-30</td>\n",
       "      <td>2015-04-01</td>\n",
       "      <td>4</td>\n",
       "      <td>2015-07-27</td>\n",
       "      <td>0</td>\n",
       "    </tr>\n",
       "  </tbody>\n",
       "</table>\n",
       "<p>5 rows × 29 columns</p>\n",
       "</div>"
      ],
      "text/plain": [
       "   store  day_of_week       date  sales  customers  open  promo state_holiday  \\\n",
       "0      1            5 2015-07-31   5263        555     1      1   regular_day   \n",
       "1      2            5 2015-07-31   6064        625     1      1   regular_day   \n",
       "2      3            5 2015-07-31   8314        821     1      1   regular_day   \n",
       "3      4            5 2015-07-31  13995       1498     1      1   regular_day   \n",
       "4      5            5 2015-07-31   4822        559     1      1   regular_day   \n",
       "\n",
       "   school_holiday store_type  ... is_promo  year  month  day  week_of_year  \\\n",
       "0               1          c  ...        0  2015      7   31            31   \n",
       "1               1          a  ...        1  2015      7   31            31   \n",
       "2               1          a  ...        1  2015      7   31            31   \n",
       "3               1          c  ...        0  2015      7   31            31   \n",
       "4               1          a  ...        0  2015      7   31            31   \n",
       "\n",
       "   year_week  competition_since competition_time_month promo_since  \\\n",
       "0    2015-30         2008-09-01                     84  2015-07-27   \n",
       "1    2015-30         2007-11-01                     94  2010-03-22   \n",
       "2    2015-30         2006-12-01                    105  2011-03-28   \n",
       "3    2015-30         2009-09-01                     71  2015-07-27   \n",
       "4    2015-30         2015-04-01                      4  2015-07-27   \n",
       "\n",
       "   promo_time_week  \n",
       "0                0  \n",
       "1              279  \n",
       "2              226  \n",
       "3                0  \n",
       "4                0  \n",
       "\n",
       "[5 rows x 29 columns]"
      ]
     },
     "execution_count": 45,
     "metadata": {},
     "output_type": "execute_result"
    }
   ],
   "source": [
    "df3.head()"
   ]
  },
  {
   "cell_type": "markdown",
   "id": "97ff9f6d",
   "metadata": {},
   "source": [
    "## 3.1. Filtering Rows"
   ]
  },
  {
   "cell_type": "code",
   "execution_count": 46,
   "id": "2ed4e189",
   "metadata": {
    "ExecuteTime": {
     "end_time": "2021-08-18T19:48:45.033004Z",
     "start_time": "2021-08-18T19:48:44.882402Z"
    }
   },
   "outputs": [],
   "source": [
    "df3 = df3[( df3['open'] != 0 ) & ( df3['sales'] > 0 )]"
   ]
  },
  {
   "cell_type": "markdown",
   "id": "85313b94",
   "metadata": {},
   "source": [
    "## 3.2. Filtering Columns"
   ]
  },
  {
   "cell_type": "code",
   "execution_count": 47,
   "id": "3ad4c833",
   "metadata": {
    "ExecuteTime": {
     "end_time": "2021-08-18T19:48:45.880102Z",
     "start_time": "2021-08-18T19:48:45.771353Z"
    }
   },
   "outputs": [
    {
     "data": {
      "text/plain": [
       "Index(['store', 'day_of_week', 'date', 'sales', 'promo', 'state_holiday',\n",
       "       'school_holiday', 'store_type', 'assortment', 'competition_distance',\n",
       "       'competition_open_since_month', 'competition_open_since_year', 'promo2',\n",
       "       'promo2_since_week', 'promo2_since_year', 'is_promo', 'year', 'month',\n",
       "       'day', 'week_of_year', 'year_week', 'competition_since',\n",
       "       'competition_time_month', 'promo_since', 'promo_time_week'],\n",
       "      dtype='object')"
      ]
     },
     "execution_count": 47,
     "metadata": {},
     "output_type": "execute_result"
    }
   ],
   "source": [
    "columns_drop = ['customers','open','promo_interval','month_map']\n",
    "df3 = df3.drop( columns_drop, axis=1 )\n",
    "\n",
    "df3.columns"
   ]
  },
  {
   "cell_type": "code",
   "execution_count": null,
   "id": "100f5e14",
   "metadata": {},
   "outputs": [],
   "source": []
  },
  {
   "cell_type": "code",
   "execution_count": null,
   "id": "a57378d9",
   "metadata": {},
   "outputs": [],
   "source": []
  },
  {
   "cell_type": "code",
   "execution_count": null,
   "id": "8bb24d90",
   "metadata": {},
   "outputs": [],
   "source": []
  },
  {
   "cell_type": "code",
   "execution_count": null,
   "id": "7f75aa60",
   "metadata": {},
   "outputs": [],
   "source": []
  }
 ],
 "metadata": {
  "kernelspec": {
   "display_name": "Python 3 (ipykernel)",
   "language": "python",
   "name": "python3"
  },
  "language_info": {
   "codemirror_mode": {
    "name": "ipython",
    "version": 3
   },
   "file_extension": ".py",
   "mimetype": "text/x-python",
   "name": "python",
   "nbconvert_exporter": "python",
   "pygments_lexer": "ipython3",
   "version": "3.9.6"
  }
 },
 "nbformat": 4,
 "nbformat_minor": 5
}
